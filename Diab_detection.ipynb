{
  "nbformat": 4,
  "nbformat_minor": 0,
  "metadata": {
    "colab": {
      "name": "Diab_detection.ipynb",
      "provenance": [],
      "collapsed_sections": [],
      "include_colab_link": true
    },
    "kernelspec": {
      "name": "python3",
      "display_name": "Python 3"
    },
    "language_info": {
      "name": "python"
    }
  },
  "cells": [
    {
      "cell_type": "markdown",
      "metadata": {
        "id": "view-in-github",
        "colab_type": "text"
      },
      "source": [
        "<a href=\"https://colab.research.google.com/github/riya3680/coursera-test/blob/main/Diab_detection.ipynb\" target=\"_parent\"><img src=\"https://colab.research.google.com/assets/colab-badge.svg\" alt=\"Open In Colab\"/></a>"
      ]
    },
    {
      "cell_type": "code",
      "execution_count": 109,
      "metadata": {
        "colab": {
          "base_uri": "https://localhost:8080/"
        },
        "id": "4LGUO3DJAmSd",
        "outputId": "d1a297a7-c41d-4bc2-9c15-00abf6a62605"
      },
      "outputs": [
        {
          "output_type": "stream",
          "name": "stdout",
          "text": [
            "Drive already mounted at /content/drive; to attempt to forcibly remount, call drive.mount(\"/content/drive\", force_remount=True).\n"
          ]
        }
      ],
      "source": [
        "from google.colab import drive\n",
        "drive.mount('/content/drive')"
      ]
    },
    {
      "cell_type": "code",
      "source": [
        "import pandas as pd\n",
        "import os\n",
        "\n",
        "#os.chdir('/Users/stevenhurwitt/Documents/Blog/Classification')\n",
        "data = pd.read_csv('/content/Data_f1.csv', sep=',', header=0)\n",
        "data.head()\n",
        "\n",
        "\n",
        "X = data.iloc[:,:15]\n",
        "Y = data.iloc[:,16]"
      ],
      "metadata": {
        "id": "DUzIogz1v46v"
      },
      "execution_count": 117,
      "outputs": []
    },
    {
      "cell_type": "code",
      "source": [
        "from sklearn.model_selection import train_test_split\n",
        "\n",
        "Xtrain, Xtest, Ytrain, Ytest=train_test_split(X, Y, test_size=0.20, random_state=20)\n"
      ],
      "metadata": {
        "id": "ceJOQqYvBDbc"
      },
      "execution_count": 193,
      "outputs": []
    },
    {
      "cell_type": "code",
      "source": [
        "#from sklearn.preprocessing import StandardScaler\n",
        "#sc=StandardScaler()\n",
        "#Xtrain=sc.fit_transform(Xtrain)\n",
        "#Xtest=sc.transform(Xtest)"
      ],
      "metadata": {
        "id": "FbxciuTswgqz"
      },
      "execution_count": 114,
      "outputs": []
    },
    {
      "cell_type": "code",
      "source": [
        "#RANDOM FOREST CLASSIFIER\n",
        "#from sklearn.ensemble import RandomForestClassifier\n",
        "#model=RandomForestClassifier()"
      ],
      "metadata": {
        "id": "3hnwheMPMRWa"
      },
      "execution_count": 119,
      "outputs": []
    },
    {
      "cell_type": "code",
      "source": [
        "#ADA BOOST\n",
        "#from sklearn.model_selection import cross_val_score\n",
        "#from sklearn.ensemble import AdaBoostClassifier\n",
        "model= AdaBoostClassifier()"
      ],
      "metadata": {
        "id": "ZnZrIoYaMYcO"
      },
      "execution_count": 137,
      "outputs": []
    },
    {
      "cell_type": "code",
      "source": [
        "#LOGISTIC REGRESSION\n",
        "#from sklearn.linear_model import LogisticRegression\n",
        "#model=LogisticRegression()\n"
      ],
      "metadata": {
        "id": "yB493c0RX4Be"
      },
      "execution_count": 159,
      "outputs": []
    },
    {
      "cell_type": "code",
      "source": [
        "#SVc,SVM\n",
        "#from sklearn.svm import SVC\n",
        "#model=SVC(kernel='rbf',random_state=4)\n"
      ],
      "metadata": {
        "id": "oIwOKg73YixY"
      },
      "execution_count": 150,
      "outputs": []
    },
    {
      "cell_type": "code",
      "source": [
        "#STOCHASTIC GRADIANT DESCENT- CLASSIFICATION\n",
        "#from sklearn.linear_model import SGDClassifier\n",
        "#model=SGDClassifier(loss=\"hinge\", penalty=\"l2\", max_iter=5)"
      ],
      "metadata": {
        "id": "Y_ebDbqaZ9LK"
      },
      "execution_count": 203,
      "outputs": []
    },
    {
      "cell_type": "code",
      "source": [
        "#GAUSSIAN NAIVE BAYES\n",
        "#from sklearn.naive_bayes import GaussianNB          #PROBLEM\n",
        "#gnb = GaussianNB()\n",
        "#model=gnb.fit(Xtrain, Ytrain).predict(Xtest)"
      ],
      "metadata": {
        "id": "L-F1YXhCcXMx"
      },
      "execution_count": 71,
      "outputs": []
    },
    {
      "cell_type": "code",
      "source": [
        "#NN CLASSIFICATION\n",
        "#from sklearn.neural_network import MLPClassifier\n",
        "#model=MLPClassifier(solver='lbfgs', alpha=1e-5,hidden_layer_sizes=(5, 2), random_state=1)\n"
      ],
      "metadata": {
        "id": "uApH0w4RddEa"
      },
      "execution_count": 170,
      "outputs": []
    },
    {
      "cell_type": "code",
      "source": [
        "#XG BOOST\n",
        "from xgboost import XGBClassifier\n",
        "model = XGBClassifier()"
      ],
      "metadata": {
        "id": "2qiwiqhXeiiV"
      },
      "execution_count": 210,
      "outputs": []
    },
    {
      "cell_type": "code",
      "source": [
        "#DECISION TREE CLASSIFICATION\n",
        "#from sklearn import tree\n",
        "#model=tree.DecisionTreeClassifier()"
      ],
      "metadata": {
        "id": "UPV_vpnbjGUA"
      },
      "execution_count": 184,
      "outputs": []
    },
    {
      "cell_type": "code",
      "source": [
        "#KNN\n",
        "#from sklearn.neighbors import KNeighborsClassifier\n",
        "#model= KNeighborsClassifier(n_neighbors = 5,metric = 'minkowski', p = 2)"
      ],
      "metadata": {
        "id": "AT1chzhplGQX"
      },
      "execution_count": 194,
      "outputs": []
    },
    {
      "cell_type": "code",
      "source": [
        "\n",
        "x=model.fit(Xtrain, Ytrain)\n",
        "print(\"The model accuracy is :\", model.score(Xtest,Ytest)*100, '%')\n",
        "score = model.score(Xtest, Ytest)\n",
        "print(score)\n"
      ],
      "metadata": {
        "colab": {
          "base_uri": "https://localhost:8080/"
        },
        "id": "fU3unyQCBe4P",
        "outputId": "2a2b25df-6a8e-4c03-88f7-8168f87cbe3c"
      },
      "execution_count": 211,
      "outputs": [
        {
          "output_type": "stream",
          "name": "stdout",
          "text": [
            "The model accuracy is : 82.6923076923077 %\n",
            "0.8269230769230769\n"
          ]
        }
      ]
    },
    {
      "cell_type": "markdown",
      "source": [
        "confusion matrix"
      ],
      "metadata": {
        "id": "XzotgV-Tc6Zp"
      }
    },
    {
      "cell_type": "code",
      "source": [
        "Predictions=model.predict(Xtest)\n",
        "import matplotlib.pyplot as plt\n",
        "import seaborn as sns\n",
        "from sklearn import metrics\n",
        "\n",
        "cm = metrics.confusion_matrix(Ytest, Predictions)\n",
        "print(cm)"
      ],
      "metadata": {
        "colab": {
          "base_uri": "https://localhost:8080/"
        },
        "id": "z2yBXlXZBr_H",
        "outputId": "2a7bc03c-a2c8-40c4-f293-e08d81a5d994"
      },
      "execution_count": 212,
      "outputs": [
        {
          "output_type": "stream",
          "name": "stdout",
          "text": [
            "[[81  7]\n",
            " [11  5]]\n"
          ]
        }
      ]
    },
    {
      "cell_type": "code",
      "source": [
        "#accuracy\n",
        "accuracy=(cm[0,0]+cm[1,1])/(cm[0,0]+cm[0,1]+cm[1,0]+cm[1,1])\n",
        "print(accuracy)"
      ],
      "metadata": {
        "colab": {
          "base_uri": "https://localhost:8080/"
        },
        "id": "1QJe-7vuyhXD",
        "outputId": "4860aee1-16e3-42a4-f04d-b250f19829ec"
      },
      "execution_count": 214,
      "outputs": [
        {
          "output_type": "stream",
          "name": "stdout",
          "text": [
            "0.8269230769230769\n"
          ]
        }
      ]
    },
    {
      "cell_type": "code",
      "source": [
        "#specificity\n",
        "specificity=(cm[1,1]/(cm[1,0]+cm[1,1])*100)\n",
        "print(\"specificity:\",specificity)"
      ],
      "metadata": {
        "colab": {
          "base_uri": "https://localhost:8080/"
        },
        "id": "fYfDdGYryOQY",
        "outputId": "96278545-3063-4d98-8f93-4cf3a38990fb"
      },
      "execution_count": 215,
      "outputs": [
        {
          "output_type": "stream",
          "name": "stdout",
          "text": [
            "specificity: 31.25\n"
          ]
        }
      ]
    },
    {
      "cell_type": "code",
      "source": [
        "#sensitivity\n",
        "sensitivity=(cm[0,0]/(cm[0,0]+cm[0,1])*100)\n",
        "print(\"sensitivity: \",sensitivity)"
      ],
      "metadata": {
        "colab": {
          "base_uri": "https://localhost:8080/"
        },
        "id": "CvoukOwCx5lI",
        "outputId": "ecdc6085-9bb0-437b-ac62-b3e15c4262d2"
      },
      "execution_count": 216,
      "outputs": [
        {
          "output_type": "stream",
          "name": "stdout",
          "text": [
            "sensitivity:  92.04545454545455\n"
          ]
        }
      ]
    },
    {
      "cell_type": "code",
      "source": [
        "plt.figure(figsize=(9,9))\n",
        "sns.heatmap(cm, annot=True, fmt=\".3f\", linewidths=.5, square=True, cmap = 'Blues_r');\n",
        "plt.ylabel('Actual label');\n",
        "plt.xlabel('Predicted label');\n",
        "all_sample_title = 'Random forest Accuracy Score: {0}'.format(score)\n",
        "plt.title(all_sample_title, size = 15);\n",
        "plt.show()"
      ],
      "metadata": {
        "colab": {
          "base_uri": "https://localhost:8080/",
          "height": 520
        },
        "id": "FeZ7s-uCCBq9",
        "outputId": "e0db786c-e030-44e4-f912-6a3546af9d25"
      },
      "execution_count": 143,
      "outputs": [
        {
          "output_type": "display_data",
          "data": {
            "text/plain": [
              "<Figure size 648x648 with 2 Axes>"
            ],
            "image/png": "[encoded data removed]"
          },
          "metadata": {
            "needs_background": "light"
          }
        }
      ]
    },
    {
      "cell_type": "code",
      "source": [
        "#time taken\n",
        "import time\n",
        "start = time.time_ns()\n",
        "#RANDOM FOREST CLASSIFIER\n",
        "#from sklearn.ensemble import RandomForestClassifier\n",
        "model.fit(Xtrain, Ytrain)\n",
        "#score = model.score(Xtest, Ytest)\n",
        "\n",
        "end = time.time_ns()\n",
        "x=((end-start)/1000000)\n",
        "#print(start/1000000)\n",
        "#print(end)\n",
        "print(end-start)\n",
        "print(x,\"ms\")"
      ],
      "metadata": {
        "colab": {
          "base_uri": "https://localhost:8080/"
        },
        "id": "HJeCZ3yHbSCM",
        "outputId": "a7cb1dfd-b604-45f6-ec47-ec70f047bfd9"
      },
      "execution_count": 217,
      "outputs": [
        {
          "output_type": "stream",
          "name": "stdout",
          "text": [
            "32247488\n",
            "32.247488 ms\n"
          ]
        }
      ]
    },
    {
      "cell_type": "code",
      "source": [
        "\n",
        "print(\"acuracy: \",accuracy)\n",
        "print(\"sensitivity: \",sensitivity)\n",
        "print(\"specificity:\",specificity)\n",
        "print(\"time taken: \", x ,\"ms\")\n",
        "print(\"confusion matrix: \" ,cm)"
      ],
      "metadata": {
        "colab": {
          "base_uri": "https://localhost:8080/"
        },
        "id": "_dIh485jHX61",
        "outputId": "bf5158ee-b483-416c-f3b1-df9ad090f3d6"
      },
      "execution_count": 191,
      "outputs": [
        {
          "output_type": "stream",
          "name": "stdout",
          "text": [
            "acuracy:  0.8846153846153846\n",
            "sensitivity:  93.18181818181817\n",
            "specificity: 62.5\n",
            "time taken:  3.30195 ms\n",
            "confusion matrix:  [[82  6]\n",
            " [ 6 10]]\n"
          ]
        }
      ]
    },
    {
      "cell_type": "markdown",
      "source": [
        "ROC CURVE AND AUC\n",
        "\n",
        "roc-Y-TP rate X-FP rate...\n",
        "roc return 3 things- tp rate,fp rate ,threshold"
      ],
      "metadata": {
        "id": "u78qOMzFA9qo"
      }
    },
    {
      "cell_type": "code",
      "source": [
        "#roc auc - random forest\n",
        "from sklearn.ensemble import RandomForestClassifier\n",
        "from sklearn.metrics import RocCurveDisplay\n",
        "from sklearn.svm import SVC\n",
        "model=RandomForestClassifier()\n",
        "x=model.fit(Xtrain, Ytrain)\n",
        "svc = SVC(random_state=10)\n",
        "svc.fit(Xtrain, Ytrain)\n",
        "svc_disp=RocCurveDisplay.from_estimator(svc,Xtest,Ytest)\n",
        "\n",
        "rfc=RandomForestClassifier(random_state=10)\n",
        "rfc.fit(Xtrain, Ytrain)\n",
        "rfc_disp=RocCurveDisplay.from_estimator(rfc,Xtest,Ytest)\n",
        "plt.show()"
      ],
      "metadata": {
        "colab": {
          "base_uri": "https://localhost:8080/",
          "height": 541
        },
        "id": "liTNl9UnVkFo",
        "outputId": "5c42ea67-46f3-486b-f7b0-040a91831dac"
      },
      "execution_count": 157,
      "outputs": [
        {
          "output_type": "display_data",
          "data": {
            "text/plain": [
              "<Figure size 432x288 with 1 Axes>"
            ],
            "image/png": "[encoded data removed]"
          },
          "metadata": {
            "needs_background": "light"
          }
        },
        {
          "output_type": "display_data",
          "data": {
            "text/plain": [
              "<Figure size 432x288 with 1 Axes>"
            ],
            "image/png": "[encoded data removed]"
          },
          "metadata": {
            "needs_background": "light"
          }
        }
      ]
    },
    {
      "cell_type": "code",
      "source": [
        "#roc for ada boost\n",
        "from sklearn.model_selection import cross_val_score\n",
        "from sklearn.datasets import load_iris\n",
        "from sklearn.ensemble import AdaBoostClassifier\n",
        "model= AdaBoostClassifier()\n",
        "x=model.fit(Xtrain, Ytrain)\n",
        "\n",
        "import sklearn.metrics as metrics\n",
        "probs = model.predict_proba(Xtest)\n",
        "preds = probs[:,1]\n",
        "#print(len(preds)\n",
        "ada_fpr, ada_tpr, threshold = metrics.roc_curve(Ytest, preds)\n",
        "ada_auc = metrics.auc(ada_fpr, ada_tpr)\n",
        "print\n",
        "import matplotlib.pyplot as plt\n",
        "plt.title('ADA Boost roc curve')\n",
        "plt.plot(ada_fpr, ada_tpr, 'b', label = 'AUC = %0.3f' % ada_auc)\n",
        "plt.ylabel('True Positive Rate')\n",
        "plt.xlabel('False Positive Rate')\n",
        "plt.legend()\n",
        "plt.show()"
      ],
      "metadata": {
        "colab": {
          "base_uri": "https://localhost:8080/",
          "height": 295
        },
        "id": "GcyR-Jkg7ub7",
        "outputId": "10422039-76c9-433d-dcc2-0c1e1ae73fa8"
      },
      "execution_count": 145,
      "outputs": [
        {
          "output_type": "display_data",
          "data": {
            "text/plain": [
              "<Figure size 432x288 with 1 Axes>"
            ],
            "image/png": "[encoded data removed]"
          },
          "metadata": {
            "needs_background": "light"
          }
        }
      ]
    },
    {
      "cell_type": "code",
      "source": [
        "#logistics regression\n",
        "from sklearn.linear_model import LogisticRegression\n",
        "model_logistic=LogisticRegression()\n",
        "model_logistic.fit(Xtrain,Ytrain)\n",
        "y_pred_logistic=model_logistic.decision_function(Xtest) "
      ],
      "metadata": {
        "colab": {
          "base_uri": "https://localhost:8080/"
        },
        "id": "MVEEHI3zD5_S",
        "outputId": "8bba0c7b-4156-4d88-d0c7-9d20f4df20dc"
      },
      "execution_count": 166,
      "outputs": [
        {
          "output_type": "stream",
          "name": "stderr",
          "text": [
            "/usr/local/lib/python3.7/dist-packages/sklearn/linear_model/_logistic.py:818: ConvergenceWarning: lbfgs failed to converge (status=1):\n",
            "STOP: TOTAL NO. of ITERATIONS REACHED LIMIT.\n",
            "\n",
            "Increase the number of iterations (max_iter) or scale the data as shown in:\n",
            "    https://scikit-learn.org/stable/modules/preprocessing.html\n",
            "Please also refer to the documentation for alternative solver options:\n",
            "    https://scikit-learn.org/stable/modules/linear_model.html#logistic-regression\n",
            "  extra_warning_msg=_LOGISTIC_SOLVER_CONVERGENCE_MSG,\n"
          ]
        }
      ]
    },
    {
      "cell_type": "code",
      "source": [
        "#SVM\n",
        "from sklearn.svm import SVC\n",
        "model_SVC=SVC(kernel='rbf',random_state=4)\n",
        "model_SVC.fit( Xtrain, Ytrain)\n",
        "y_pred_svm=model_SVC.decision_function(Xtest)  \n"
      ],
      "metadata": {
        "id": "-bJN37wb-vV9"
      },
      "execution_count": 167,
      "outputs": []
    },
    {
      "cell_type": "code",
      "source": [
        "from matplotlib import figure\n",
        "from sklearn.metrics import roc_curve,auc\n",
        "\n",
        "logistic_fpr,logistic_tpr,threshold=roc_curve(Ytest,y_pred_logistic)\n",
        "logistic_auc=auc(logistic_fpr,logistic_tpr)\n",
        "\n",
        "svm_fpr,svm_tpr,threshold=roc_curve(Ytest,y_pred_svm)\n",
        "svm_auc=auc(svm_fpr, svm_tpr)\n",
        "\n",
        "plt.figure(figsize=(5,5),dpi=100)\n",
        "plt.plot(svm_fpr,svm_tpr, linestyle='-', label='SVM (auc = %0.3f)' % svm_auc)\n",
        "plt.plot(logistic_fpr,logistic_tpr,linestyle=':',label='logistic(auc=%0.3f' % logistic_auc)\n",
        "\n",
        "plt.xlabel(\"False Positive Rate\")\n",
        "plt.ylabel(\"True Positive Rate\")\n",
        "plt.legend()\n",
        "plt.show()\n"
      ],
      "metadata": {
        "colab": {
          "base_uri": "https://localhost:8080/",
          "height": 457
        },
        "id": "9aYtv1kZACWy",
        "outputId": "79538295-49aa-42d7-a512-05dea71235e9"
      },
      "execution_count": 168,
      "outputs": [
        {
          "output_type": "display_data",
          "data": {
            "text/plain": [
              "<Figure size 500x500 with 1 Axes>"
            ],
            "image/png": "[encoded data removed]"
          },
          "metadata": {
            "needs_background": "light"
          }
        }
      ]
    },
    {
      "cell_type": "code",
      "source": [
        "#roc for KNN\n",
        "from sklearn.neighbors import KNeighborsClassifier\n",
        "model= KNeighborsClassifier(n_neighbors = 5,metric = 'minkowski', p = 2)\n",
        "x=model.fit(Xtrain, Ytrain)\n",
        "\n",
        "from sklearn.metrics import roc_curve \n",
        "from sklearn.metrics import auc\n",
        "import matplotlib.pyplot as plt\n",
        "y_score=model.predict_proba(Xtest) \n",
        "              #cross_val_score(model, X, Y, cv=76)\n",
        "knn_fpr, knn_tpr, threshold = roc_curve(Ytest, y_score[:,1])\n",
        "knn_auc = auc(knn_fpr, knn_tpr)\n",
        "\n",
        "plt.title('ROC curve for K-NN')\n",
        "plt.plot(knn_fpr, knn_tpr, 'b', label = 'AUC = %0.3f' % knn_auc)\n",
        "plt.ylabel('True Positive Rate')\n",
        "plt.xlabel('False Positive Rate')\n",
        "plt.legend()\n",
        "plt.show()"
      ],
      "metadata": {
        "colab": {
          "base_uri": "https://localhost:8080/",
          "height": 295
        },
        "id": "Ej5Hew7PDfUi",
        "outputId": "d14f28fe-e3a6-4b4a-a398-d0095e886f1c"
      },
      "execution_count": 201,
      "outputs": [
        {
          "output_type": "display_data",
          "data": {
            "text/plain": [
              "<Figure size 432x288 with 1 Axes>"
            ],
            "image/png": "[encoded data removed]"
          },
          "metadata": {
            "needs_background": "light"
          }
        }
      ]
    },
    {
      "cell_type": "code",
      "source": [
        "#roc curve for dt classification\n",
        "from sklearn import tree\n",
        "model=tree.DecisionTreeClassifier()\n",
        "x=model.fit(Xtrain, Ytrain)\n",
        "\n",
        "from sklearn.metrics import roc_curve\n",
        "from sklearn.metrics import auc\n",
        "import matplotlib.pyplot as plt\n",
        "from sklearn import metrics\n",
        "y_preds_dt=model.predict_proba(Xtest)\n",
        "dt_fpr, dt_tpr, threshold = metrics.roc_curve(Ytest, y_preds_dt[:,1])\n",
        "dt_auc = metrics.auc(dt_fpr,dt_tpr)\n",
        "\n",
        "plt.title('ROC curve for DT Classification')\n",
        "plt.plot(dt_fpr, dt_tpr, 'b', label = 'AUC = %0.3f' % dt_auc)\n",
        "plt.ylabel('True Positive Rate')\n",
        "plt.xlabel('False Positive Rate')\n",
        "plt.legend()\n",
        "plt.show()\n",
        "\n"
      ],
      "metadata": {
        "colab": {
          "base_uri": "https://localhost:8080/",
          "height": 295
        },
        "id": "xn7I6BFSNTBB",
        "outputId": "e1236bda-2f6e-4ad5-eb1b-871f0dab2de0"
      },
      "execution_count": 192,
      "outputs": [
        {
          "output_type": "display_data",
          "data": {
            "text/plain": [
              "<Figure size 432x288 with 1 Axes>"
            ],
            "image/png": "[encoded data removed]"
          },
          "metadata": {
            "needs_background": "light"
          }
        }
      ]
    },
    {
      "cell_type": "code",
      "source": [
        "#roc curve for NN classification\n",
        "from sklearn.neural_network import MLPClassifier\n",
        "model=MLPClassifier(solver='lbfgs', alpha=1e-5,hidden_layer_sizes=(5, 2), random_state=1)\n",
        "x=model.fit(Xtrain, Ytrain)\n",
        "\n",
        "from sklearn.metrics import roc_curve\n",
        "from sklearn.metrics import auc\n",
        "import matplotlib.pyplot as plt\n",
        "from sklearn import metrics\n",
        "y_preds_nn=model.predict_proba(Xtest)\n",
        "nn_fpr, nn_tpr, threshold = metrics.roc_curve(Ytest, y_preds_nn[:,1])\n",
        "nn_auc = metrics.auc(nn_fpr,nn_tpr)\n",
        "\n",
        "plt.title('ROC curve for NEURAL NETWORK Classification')\n",
        "plt.plot(nn_fpr, nn_tpr, 'b', label = 'AUC = %0.3f' % nn_auc)\n",
        "plt.ylabel('True Positive Rate')\n",
        "plt.xlabel('False Positive Rate')\n",
        "plt.legend()\n",
        "plt.show()\n",
        "\n",
        "\n"
      ],
      "metadata": {
        "colab": {
          "base_uri": "https://localhost:8080/",
          "height": 295
        },
        "id": "1LyeWRsGWdj1",
        "outputId": "60bafe9f-11ae-4a1b-b330-bac8207e8e62"
      },
      "execution_count": 177,
      "outputs": [
        {
          "output_type": "display_data",
          "data": {
            "text/plain": [
              "<Figure size 432x288 with 1 Axes>"
            ],
            "image/png": "[encoded data removed]"
          },
          "metadata": {
            "needs_background": "light"
          }
        }
      ]
    },
    {
      "cell_type": "code",
      "source": [
        "#SGD classification\n",
        "from sklearn.linear_model import SGDClassifier\n",
        "model=SGDClassifier()    #loss=\"hinge\", penalty=\"l2\", max_iter=5)\n",
        "model.fit(Xtrain,Ytrain)\n",
        "import sklearn.metrics as metrics\n",
        "import matplotlib.pyplot as plt\n",
        "y_pred_sgd= model.predict_proba(Xtest)   #model.decision_function(Ytest)\n",
        "sgd_fpr, sgd_tpr, thresholds = metrics.roc_curve(Ytest,model)\n",
        "sgd_auc = auc(sgd_fpr, sgd_tpr)\n",
        "\n",
        "#var=[]\n",
        "#for i in range(10):\n",
        " # h=ex\n",
        "#  var.append(h)\n",
        "\n",
        "\n",
        "plt.title('SGD Classification roc curve')\n",
        "plt.plot(sgd_fpr, sgd_tpr, 'b', label='AUC = %0.3f' % sgd_auc)\n",
        "plt.legend(loc='lower right')\n",
        "plt.ylabel('True Positive Rate')\n",
        "plt.xlabel('False Positive Rate')\n",
        "plt.show()\n"
      ],
      "metadata": {
        "id": "CpmBpIIP-k4L"
      },
      "execution_count": null,
      "outputs": []
    },
    {
      "cell_type": "code",
      "source": [
        "#roc for xg boost\n",
        "from xgboost import XGBClassifier\n",
        "model = XGBClassifier()\n",
        "x=model.fit(Xtrain, Ytrain)\n",
        "\n",
        "from sklearn.metrics import roc_curve\n",
        "from sklearn.metrics import auc\n",
        "import matplotlib.pyplot as plt\n",
        "from sklearn import metrics\n",
        "\n",
        "y_preds_xg=model.predict_proba(Xtest)\n",
        "#print(y_preds_xg[:,1])\n",
        "a=y_preds_xg[:,1]\n",
        "x='AUC = %0.2f' % a\n",
        "print(x)\n",
        "xg_fpr, xg_tpr, = metrics.roc_curve(Ytest, y_preds_xg[:,1])\n",
        "xg_auc = metrics.auc(xg_fpr, xg_tpr)\n",
        "\n",
        "plt.title('ROC curve for XG Boost')\n",
        "plt.plot(xg_fpr, xg_tpr, 'b', label = 'AUC = %0.3f' % xg_auc)\n",
        "plt.ylabel('True Positive Rate')\n",
        "plt.xlabel('False Positive Rate')\n",
        "plt.legend()\n",
        "plt.show()\n"
      ],
      "metadata": {
        "id": "SMI9734BHHHQ"
      },
      "execution_count": null,
      "outputs": []
    },
    {
      "cell_type": "code",
      "source": [
        "#roc curve for gaussian naive bayes \n",
        "from sklearn.naive_bayes import GaussianNB          \n",
        "gnb = GaussianNB()\n",
        "model=gnb.fit(Xtrain, Ytrain).predict(Xtest)\n",
        "\n",
        "from sklearn.metrics import roc_curve\n",
        "from sklearn.metrics import auc\n",
        "import matplotlib.pyplot as plt\n",
        "from sklearn import metrics\n",
        "y_preds_gn=model.predict_proba(Xtest)\n",
        "gn_fpr, gn_tpr, threshold = metrics.roc_curve(Ytest, y_preds_gn[:,1])\n",
        "nn_auc = metrics.auc(gn_fpr,gn_tpr)\n",
        "\n",
        "\n",
        "plt.title('ROC curve for XG Boost')\n",
        "plt.plot(gn_fpr, gn_tpr, 'b', label = 'AUC = %0.3f' % gn_auc)\n",
        "plt.ylabel('True Positive Rate')\n",
        "plt.xlabel('False Positive Rate')\n",
        "plt.legend()\n",
        "plt.show()\n",
        "\n"
      ],
      "metadata": {
        "id": "wWhU1O-YWij-"
      },
      "execution_count": null,
      "outputs": []
    },
    {
      "cell_type": "markdown",
      "source": [
        "larger the area(auc) means a better model\n"
      ],
      "metadata": {
        "id": "aPYeoJyBFQej"
      }
    },
    {
      "cell_type": "code",
      "source": [
        "from sklearn.metrics import roc_curve\n",
        "from sklearn.metrics import auc\n",
        "ada_fpr=(cm[1,0]/(cm[1,1]+cm[1,0]))\n",
        "ada_tpr=(cm[0,0]/(cm[0,0]+cm[0,1]))\n",
        "print(ada_fpr)\n",
        "print(ada_tpr)\n",
        "\n",
        "plt.plot(ada_fpr,ada_tpr,'b')#,label=\"AUC =%0.3f\"% ada_auc)\n",
        "pred_ada = model.predict_proba(Xtest)\n",
        "ada_fpr,ada_tpr,thershold=roc_curve(Ytest,pred_ada)\n",
        "#ada_auc=auc(ada_fpr,ada_tpr)\n",
        "plt.plot(ada_fpr,ada_tpr,'b')#,label=\"AUC =%0.3f\"% ada_auc)"
      ],
      "metadata": {
        "colab": {
          "base_uri": "https://localhost:8080/",
          "height": 697
        },
        "id": "WDfRfZrlBIKV",
        "outputId": "dc9cb28f-4532-4833-a741-7cdd68652f7d"
      },
      "execution_count": 28,
      "outputs": [
        {
          "output_type": "stream",
          "name": "stdout",
          "text": [
            "0.9259259259259259\n",
            "0.9612403100775194\n"
          ]
        },
        {
          "output_type": "error",
          "ename": "ValueError",
          "evalue": "ignored",
          "traceback": [
            "\u001b[0;31m---------------------------------------------------------------------------\u001b[0m",
            "\u001b[0;31mValueError\u001b[0m                                Traceback (most recent call last)",
            "\u001b[0;32m<ipython-input-28-b1d8ca233761>\u001b[0m in \u001b[0;36m<module>\u001b[0;34m()\u001b[0m\n\u001b[1;32m      8\u001b[0m \u001b[0mplt\u001b[0m\u001b[0;34m.\u001b[0m\u001b[0mplot\u001b[0m\u001b[0;34m(\u001b[0m\u001b[0mada_fpr\u001b[0m\u001b[0;34m,\u001b[0m\u001b[0mada_tpr\u001b[0m\u001b[0;34m,\u001b[0m\u001b[0;34m'b'\u001b[0m\u001b[0;34m)\u001b[0m\u001b[0;31m#,label=\"AUC =%0.3f\"% ada_auc)\u001b[0m\u001b[0;34m\u001b[0m\u001b[0;34m\u001b[0m\u001b[0m\n\u001b[1;32m      9\u001b[0m \u001b[0mpred_ada\u001b[0m \u001b[0;34m=\u001b[0m \u001b[0mmodel\u001b[0m\u001b[0;34m.\u001b[0m\u001b[0mpredict_proba\u001b[0m\u001b[0;34m(\u001b[0m\u001b[0mXtest\u001b[0m\u001b[0;34m)\u001b[0m\u001b[0;34m\u001b[0m\u001b[0;34m\u001b[0m\u001b[0m\n\u001b[0;32m---> 10\u001b[0;31m \u001b[0mada_fpr\u001b[0m\u001b[0;34m,\u001b[0m\u001b[0mada_tpr\u001b[0m\u001b[0;34m,\u001b[0m\u001b[0mthershold\u001b[0m\u001b[0;34m=\u001b[0m\u001b[0mroc_curve\u001b[0m\u001b[0;34m(\u001b[0m\u001b[0mYtest\u001b[0m\u001b[0;34m,\u001b[0m\u001b[0mpred_ada\u001b[0m\u001b[0;34m)\u001b[0m\u001b[0;34m\u001b[0m\u001b[0;34m\u001b[0m\u001b[0m\n\u001b[0m\u001b[1;32m     11\u001b[0m \u001b[0;31m#ada_auc=auc(ada_fpr,ada_tpr)\u001b[0m\u001b[0;34m\u001b[0m\u001b[0;34m\u001b[0m\u001b[0;34m\u001b[0m\u001b[0m\n\u001b[1;32m     12\u001b[0m \u001b[0mplt\u001b[0m\u001b[0;34m.\u001b[0m\u001b[0mplot\u001b[0m\u001b[0;34m(\u001b[0m\u001b[0mada_fpr\u001b[0m\u001b[0;34m,\u001b[0m\u001b[0mada_tpr\u001b[0m\u001b[0;34m,\u001b[0m\u001b[0;34m'b'\u001b[0m\u001b[0;34m)\u001b[0m\u001b[0;31m#,label=\"AUC =%0.3f\"% ada_auc)\u001b[0m\u001b[0;34m\u001b[0m\u001b[0;34m\u001b[0m\u001b[0m\n",
            "\u001b[0;32m/usr/local/lib/python3.7/dist-packages/sklearn/metrics/_ranking.py\u001b[0m in \u001b[0;36mroc_curve\u001b[0;34m(y_true, y_score, pos_label, sample_weight, drop_intermediate)\u001b[0m\n\u001b[1;32m    961\u001b[0m     \"\"\"\n\u001b[1;32m    962\u001b[0m     fps, tps, thresholds = _binary_clf_curve(\n\u001b[0;32m--> 963\u001b[0;31m         \u001b[0my_true\u001b[0m\u001b[0;34m,\u001b[0m \u001b[0my_score\u001b[0m\u001b[0;34m,\u001b[0m \u001b[0mpos_label\u001b[0m\u001b[0;34m=\u001b[0m\u001b[0mpos_label\u001b[0m\u001b[0;34m,\u001b[0m \u001b[0msample_weight\u001b[0m\u001b[0;34m=\u001b[0m\u001b[0msample_weight\u001b[0m\u001b[0;34m\u001b[0m\u001b[0;34m\u001b[0m\u001b[0m\n\u001b[0m\u001b[1;32m    964\u001b[0m     )\n\u001b[1;32m    965\u001b[0m \u001b[0;34m\u001b[0m\u001b[0m\n",
            "\u001b[0;32m/usr/local/lib/python3.7/dist-packages/sklearn/metrics/_ranking.py\u001b[0m in \u001b[0;36m_binary_clf_curve\u001b[0;34m(y_true, y_score, pos_label, sample_weight)\u001b[0m\n\u001b[1;32m    733\u001b[0m     \u001b[0mcheck_consistent_length\u001b[0m\u001b[0;34m(\u001b[0m\u001b[0my_true\u001b[0m\u001b[0;34m,\u001b[0m \u001b[0my_score\u001b[0m\u001b[0;34m,\u001b[0m \u001b[0msample_weight\u001b[0m\u001b[0;34m)\u001b[0m\u001b[0;34m\u001b[0m\u001b[0;34m\u001b[0m\u001b[0m\n\u001b[1;32m    734\u001b[0m     \u001b[0my_true\u001b[0m \u001b[0;34m=\u001b[0m \u001b[0mcolumn_or_1d\u001b[0m\u001b[0;34m(\u001b[0m\u001b[0my_true\u001b[0m\u001b[0;34m)\u001b[0m\u001b[0;34m\u001b[0m\u001b[0;34m\u001b[0m\u001b[0m\n\u001b[0;32m--> 735\u001b[0;31m     \u001b[0my_score\u001b[0m \u001b[0;34m=\u001b[0m \u001b[0mcolumn_or_1d\u001b[0m\u001b[0;34m(\u001b[0m\u001b[0my_score\u001b[0m\u001b[0;34m)\u001b[0m\u001b[0;34m\u001b[0m\u001b[0;34m\u001b[0m\u001b[0m\n\u001b[0m\u001b[1;32m    736\u001b[0m     \u001b[0massert_all_finite\u001b[0m\u001b[0;34m(\u001b[0m\u001b[0my_true\u001b[0m\u001b[0;34m)\u001b[0m\u001b[0;34m\u001b[0m\u001b[0;34m\u001b[0m\u001b[0m\n\u001b[1;32m    737\u001b[0m     \u001b[0massert_all_finite\u001b[0m\u001b[0;34m(\u001b[0m\u001b[0my_score\u001b[0m\u001b[0;34m)\u001b[0m\u001b[0;34m\u001b[0m\u001b[0;34m\u001b[0m\u001b[0m\n",
            "\u001b[0;32m/usr/local/lib/python3.7/dist-packages/sklearn/utils/validation.py\u001b[0m in \u001b[0;36mcolumn_or_1d\u001b[0;34m(y, warn)\u001b[0m\n\u001b[1;32m   1037\u001b[0m \u001b[0;34m\u001b[0m\u001b[0m\n\u001b[1;32m   1038\u001b[0m     raise ValueError(\n\u001b[0;32m-> 1039\u001b[0;31m         \u001b[0;34m\"y should be a 1d array, got an array of shape {} instead.\"\u001b[0m\u001b[0;34m.\u001b[0m\u001b[0mformat\u001b[0m\u001b[0;34m(\u001b[0m\u001b[0mshape\u001b[0m\u001b[0;34m)\u001b[0m\u001b[0;34m\u001b[0m\u001b[0;34m\u001b[0m\u001b[0m\n\u001b[0m\u001b[1;32m   1040\u001b[0m     )\n\u001b[1;32m   1041\u001b[0m \u001b[0;34m\u001b[0m\u001b[0m\n",
            "\u001b[0;31mValueError\u001b[0m: y should be a 1d array, got an array of shape (156, 2) instead."
          ]
        },
        {
          "output_type": "display_data",
          "data": {
            "text/plain": [
              "<Figure size 432x288 with 1 Axes>"
            ],
            "image/png": "[encoded data removed]"
          },
          "metadata": {
            "needs_background": "light"
          }
        }
      ]
    },
    {
      "cell_type": "code",
      "source": [
        "from sklearn.multiclass import OneVsRestClassifier\n",
        "from sklearn.linear_model import LogisticRegression\n",
        "model_logistic=LogisticRegression()\n",
        "model_logistic.fit(Xtrain,Ytrain)\n",
        "from sklearn.metrics import roc_curve\n",
        "from sklearn.metrics import roc_auc_score\n",
        "\n",
        "clf = OneVsRestClassifier(LogisticRegression())\n",
        "clf.fit(Xtrain, Ytrain)\n",
        "pred = clf.predict(Xtest)\n",
        "pred_prob = clf.predict_proba(Xtest)\n",
        "fpr = {}\n",
        "tpr = {}\n",
        "thresh ={}\n",
        "\n",
        "\n",
        "for i in range(len(data)): \n",
        "  fpr[i], tpr[i], thresh[i] = roc_curve(Ytest, pred_prob[:,i], pos_label=i)\n",
        "plt.plot(fpr[0], tpr[0], linestyle='--',color='orange', label='Class 0 vs Rest')\n",
        "#plt.plot(fpr[1], tpr[1], linestyle='--',color='green', label='Class 1 vs Rest')\n",
        "#plt.plot(fpr[2], tpr[2], linestyle='--',color='blue', label='Class 2 vs Rest')\n",
        "\n",
        "plt.title('Multiclass ROC curve')\n",
        "plt.xlabel('False Positive Rate')\n",
        "plt.ylabel('True Positive rate')\n",
        "plt.legend()\n",
        "plt.show()\n"
      ],
      "metadata": {
        "colab": {
          "base_uri": "https://localhost:8080/",
          "height": 567
        },
        "id": "2sAK0tvysri-",
        "outputId": "c23c2beb-afe0-41cf-f5fe-386dc5625893"
      },
      "execution_count": 18,
      "outputs": [
        {
          "output_type": "stream",
          "name": "stderr",
          "text": [
            "/usr/local/lib/python3.7/dist-packages/sklearn/linear_model/_logistic.py:818: ConvergenceWarning: lbfgs failed to converge (status=1):\n",
            "STOP: TOTAL NO. of ITERATIONS REACHED LIMIT.\n",
            "\n",
            "Increase the number of iterations (max_iter) or scale the data as shown in:\n",
            "    https://scikit-learn.org/stable/modules/preprocessing.html\n",
            "Please also refer to the documentation for alternative solver options:\n",
            "    https://scikit-learn.org/stable/modules/linear_model.html#logistic-regression\n",
            "  extra_warning_msg=_LOGISTIC_SOLVER_CONVERGENCE_MSG,\n",
            "/usr/local/lib/python3.7/dist-packages/sklearn/linear_model/_logistic.py:818: ConvergenceWarning: lbfgs failed to converge (status=1):\n",
            "STOP: TOTAL NO. of ITERATIONS REACHED LIMIT.\n",
            "\n",
            "Increase the number of iterations (max_iter) or scale the data as shown in:\n",
            "    https://scikit-learn.org/stable/modules/preprocessing.html\n",
            "Please also refer to the documentation for alternative solver options:\n",
            "    https://scikit-learn.org/stable/modules/linear_model.html#logistic-regression\n",
            "  extra_warning_msg=_LOGISTIC_SOLVER_CONVERGENCE_MSG,\n"
          ]
        },
        {
          "output_type": "error",
          "ename": "IndexError",
          "evalue": "ignored",
          "traceback": [
            "\u001b[0;31m---------------------------------------------------------------------------\u001b[0m",
            "\u001b[0;31mIndexError\u001b[0m                                Traceback (most recent call last)",
            "\u001b[0;32m<ipython-input-18-5259d8c4bbc2>\u001b[0m in \u001b[0;36m<module>\u001b[0;34m()\u001b[0m\n\u001b[1;32m     16\u001b[0m \u001b[0;34m\u001b[0m\u001b[0m\n\u001b[1;32m     17\u001b[0m \u001b[0;32mfor\u001b[0m \u001b[0mi\u001b[0m \u001b[0;32min\u001b[0m \u001b[0mrange\u001b[0m\u001b[0;34m(\u001b[0m\u001b[0mlen\u001b[0m\u001b[0;34m(\u001b[0m\u001b[0mdata\u001b[0m\u001b[0;34m)\u001b[0m\u001b[0;34m)\u001b[0m\u001b[0;34m:\u001b[0m\u001b[0;34m\u001b[0m\u001b[0;34m\u001b[0m\u001b[0m\n\u001b[0;32m---> 18\u001b[0;31m   \u001b[0mfpr\u001b[0m\u001b[0;34m[\u001b[0m\u001b[0mi\u001b[0m\u001b[0;34m]\u001b[0m\u001b[0;34m,\u001b[0m \u001b[0mtpr\u001b[0m\u001b[0;34m[\u001b[0m\u001b[0mi\u001b[0m\u001b[0;34m]\u001b[0m\u001b[0;34m,\u001b[0m \u001b[0mthresh\u001b[0m\u001b[0;34m[\u001b[0m\u001b[0mi\u001b[0m\u001b[0;34m]\u001b[0m \u001b[0;34m=\u001b[0m \u001b[0mroc_curve\u001b[0m\u001b[0;34m(\u001b[0m\u001b[0mYtest\u001b[0m\u001b[0;34m,\u001b[0m \u001b[0mpred_prob\u001b[0m\u001b[0;34m[\u001b[0m\u001b[0;34m:\u001b[0m\u001b[0;34m,\u001b[0m\u001b[0mi\u001b[0m\u001b[0;34m]\u001b[0m\u001b[0;34m,\u001b[0m \u001b[0mpos_label\u001b[0m\u001b[0;34m=\u001b[0m\u001b[0mi\u001b[0m\u001b[0;34m)\u001b[0m\u001b[0;34m\u001b[0m\u001b[0;34m\u001b[0m\u001b[0m\n\u001b[0m\u001b[1;32m     19\u001b[0m \u001b[0mplt\u001b[0m\u001b[0;34m.\u001b[0m\u001b[0mplot\u001b[0m\u001b[0;34m(\u001b[0m\u001b[0mfpr\u001b[0m\u001b[0;34m[\u001b[0m\u001b[0;36m0\u001b[0m\u001b[0;34m]\u001b[0m\u001b[0;34m,\u001b[0m \u001b[0mtpr\u001b[0m\u001b[0;34m[\u001b[0m\u001b[0;36m0\u001b[0m\u001b[0;34m]\u001b[0m\u001b[0;34m,\u001b[0m \u001b[0mlinestyle\u001b[0m\u001b[0;34m=\u001b[0m\u001b[0;34m'--'\u001b[0m\u001b[0;34m,\u001b[0m\u001b[0mcolor\u001b[0m\u001b[0;34m=\u001b[0m\u001b[0;34m'orange'\u001b[0m\u001b[0;34m,\u001b[0m \u001b[0mlabel\u001b[0m\u001b[0;34m=\u001b[0m\u001b[0;34m'Class 0 vs Rest'\u001b[0m\u001b[0;34m)\u001b[0m\u001b[0;34m\u001b[0m\u001b[0;34m\u001b[0m\u001b[0m\n\u001b[1;32m     20\u001b[0m \u001b[0;31m#plt.plot(fpr[1], tpr[1], linestyle='--',color='green', label='Class 1 vs Rest')\u001b[0m\u001b[0;34m\u001b[0m\u001b[0;34m\u001b[0m\u001b[0;34m\u001b[0m\u001b[0m\n",
            "\u001b[0;31mIndexError\u001b[0m: index 2 is out of bounds for axis 1 with size 2"
          ]
        }
      ]
    }
  ]
}